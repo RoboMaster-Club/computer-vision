{
 "cells": [
  {
   "cell_type": "markdown",
   "metadata": {},
   "source": [
    "# How to Detect Light Bars"
   ]
  },
  {
   "cell_type": "code",
   "execution_count": 5,
   "metadata": {},
   "outputs": [
    {
     "name": "stdout",
     "output_type": "stream",
     "text": [
      "3.4.0\n"
     ]
    }
   ],
   "source": [
    "import cv2\n",
    "import numpy as np\n",
    "import imutils\n",
    "print(cv2.__version__)"
   ]
  },
  {
   "cell_type": "markdown",
   "metadata": {},
   "source": [
    "## Declare the Source"
   ]
  },
  {
   "cell_type": "code",
   "execution_count": 2,
   "metadata": {},
   "outputs": [
    {
     "name": "stdout",
     "output_type": "stream",
     "text": [
      "Error opening video stream or file\n"
     ]
    }
   ],
   "source": [
    "cap = cv2.VideoCapture('RedCar.avi') # Set to integer starting at 0 to use peripheral cameras\n",
    "\n",
    "if not cap.isOpened():\n",
    "    print('Error opening video stream or file')"
   ]
  },
  {
   "cell_type": "markdown",
   "metadata": {},
   "source": [
    "## Play the Video"
   ]
  },
  {
   "cell_type": "code",
   "execution_count": 3,
   "metadata": {},
   "outputs": [
    {
     "name": "stdout",
     "output_type": "stream",
     "text": [
      "Error opening video stream or file\n"
     ]
    }
   ],
   "source": [
    "cap = cv2.VideoCapture('RedCar.avi')\n",
    "\n",
    "if not cap.isOpened():\n",
    "    print('Error opening video stream or file')\n",
    "\n",
    "while cap.isOpened():\n",
    "    ret, frame = cap.read()\n",
    "    \n",
    "    if ret:\n",
    "        \n",
    "        cv2.imshow('Frame', frame)\n",
    "        \n",
    "    if (cv2.waitKey(25) & 0xFF == ord('q')) or not ret:\n",
    "        break\n",
    "\n",
    "cap.release()\n",
    "cv2.destroyAllWindows()"
   ]
  },
  {
   "cell_type": "markdown",
   "metadata": {},
   "source": [
    "## Convert To HSV\n",
    "\n",
    "### What's HSV?\n",
    "\n",
    "![alt text](https://upload.wikimedia.org/wikipedia/commons/thumb/0/0d/HSV_color_solid_cylinder_alpha_lowgamma.png/800px-HSV_color_solid_cylinder_alpha_lowgamma.png)"
   ]
  },
  {
   "cell_type": "code",
   "execution_count": 4,
   "metadata": {},
   "outputs": [
    {
     "name": "stdout",
     "output_type": "stream",
     "text": [
      "Error opening video stream or file\n"
     ]
    }
   ],
   "source": [
    "cap = cv2.VideoCapture('RedCar.avi')\n",
    "\n",
    "if not cap.isOpened():\n",
    "    print('Error opening video stream or file')\n",
    "\n",
    "while cap.isOpened():\n",
    "    ret, frame = cap.read()\n",
    "    \n",
    "    if ret:\n",
    "        hsv = cv2.cvtColor(frame, cv2.COLOR_BGR2HSV)\n",
    "        \n",
    "        cv2.imshow('HSV', hsv)\n",
    "        \n",
    "    if (cv2.waitKey(25) & 0xFF == ord('q')) or not ret:\n",
    "        break\n",
    "        \n",
    "cap.release()\n",
    "cv2.destroyAllWindows()"
   ]
  },
  {
   "cell_type": "markdown",
   "metadata": {},
   "source": [
    "## Detect Lights From HSV"
   ]
  },
  {
   "cell_type": "code",
   "execution_count": 237,
   "metadata": {},
   "outputs": [],
   "source": [
    "cap = cv2.VideoCapture('RedCar.avi')\n",
    "\n",
    "if not cap.isOpened():\n",
    "    print('Error opening video stream or file')\n",
    "\n",
    "while cap.isOpened():\n",
    "    ret, frame = cap.read()\n",
    "    \n",
    "    if ret:\n",
    "        hsv = cv2.cvtColor(frame, cv2.COLOR_BGR2HSV)\n",
    "        \n",
    "        lower = np.array([0,0,251])\n",
    "        upper = np.array([180,3,255])\n",
    "        mask = cv2.inRange(hsv, lower, upper)\n",
    "        \n",
    "        lights = cv2.bitwise_and(hsv, hsv, mask=mask)\n",
    "        \n",
    "        cv2.imshow('Lights', lights)\n",
    "        \n",
    "    if (cv2.waitKey(25) & 0xFF == ord('q')) or not ret:\n",
    "        break\n",
    "        \n",
    "cap.release()\n",
    "cv2.destroyAllWindows()"
   ]
  },
  {
   "cell_type": "markdown",
   "metadata": {},
   "source": [
    "## Convert Back to BGR\n",
    "\n",
    "Convert back to BGR for further manipulation"
   ]
  },
  {
   "cell_type": "code",
   "execution_count": 238,
   "metadata": {},
   "outputs": [],
   "source": [
    "cap = cv2.VideoCapture('RedCar.avi')\n",
    "\n",
    "if not cap.isOpened():\n",
    "    print('Error opening video stream or file')\n",
    "\n",
    "while cap.isOpened():\n",
    "    ret, frame = cap.read()\n",
    "    \n",
    "    if ret:\n",
    "        hsv = cv2.cvtColor(frame, cv2.COLOR_BGR2HSV)\n",
    "        \n",
    "        lower = np.array([0,0,251])\n",
    "        upper = np.array([180,3,255])\n",
    "        mask = cv2.inRange(hsv, lower, upper)\n",
    "        \n",
    "        lights = cv2.bitwise_and(hsv, hsv, mask=mask)\n",
    "        \n",
    "        lights_bgr = cv2.cvtColor(lights, cv2.COLOR_HSV2BGR)\n",
    "        \n",
    "        cv2.imshow('BGR Lights', lights)\n",
    "        \n",
    "    if (cv2.waitKey(25) & 0xFF == ord('q')) or not ret:\n",
    "        break\n",
    "        \n",
    "cap.release()\n",
    "cv2.destroyAllWindows()"
   ]
  },
  {
   "cell_type": "markdown",
   "metadata": {},
   "source": [
    "## Blur"
   ]
  },
  {
   "cell_type": "code",
   "execution_count": 239,
   "metadata": {},
   "outputs": [],
   "source": [
    "cap = cv2.VideoCapture('RedCar.avi')\n",
    "\n",
    "if not cap.isOpened():\n",
    "    print('Error opening video stream or file')\n",
    "\n",
    "while cap.isOpened():\n",
    "    ret, frame = cap.read()\n",
    "    \n",
    "    if ret:\n",
    "        hsv = cv2.cvtColor(frame, cv2.COLOR_BGR2HSV)\n",
    "        \n",
    "        lower = np.array([0,0,251])\n",
    "        upper = np.array([180,3,255])\n",
    "        mask = cv2.inRange(hsv, lower, upper)\n",
    "        \n",
    "        lights = cv2.bitwise_and(hsv, hsv, mask=mask)\n",
    "        \n",
    "        lights_bgr = cv2.cvtColor(lights, cv2.COLOR_HSV2BGR)\n",
    "        blurred = cv2.GaussianBlur(lights_bgr, (5,5), 0)    \n",
    "        \n",
    "        cv2.imshow('Blurred', blurred)\n",
    "        \n",
    "    if (cv2.waitKey(25) & 0xFF == ord('q')) or not ret:\n",
    "        break\n",
    "        \n",
    "cap.release()\n",
    "cv2.destroyAllWindows()"
   ]
  },
  {
   "cell_type": "markdown",
   "metadata": {},
   "source": [
    "## Threshold"
   ]
  },
  {
   "cell_type": "code",
   "execution_count": 240,
   "metadata": {},
   "outputs": [],
   "source": [
    "cap = cv2.VideoCapture('RedCar.avi')\n",
    "\n",
    "if not cap.isOpened():\n",
    "    print('Error opening video stream or file')\n",
    "\n",
    "while cap.isOpened():\n",
    "    ret, frame = cap.read()\n",
    "    \n",
    "    if ret:\n",
    "        hsv = cv2.cvtColor(frame, cv2.COLOR_BGR2HSV)\n",
    "        \n",
    "        lower = np.array([0,0,251])\n",
    "        upper = np.array([180,3,255])\n",
    "        mask = cv2.inRange(hsv, lower, upper)\n",
    "        \n",
    "        lights = cv2.bitwise_and(hsv, hsv, mask=mask)\n",
    "        \n",
    "        lights_bgr = cv2.cvtColor(lights, cv2.COLOR_HSV2BGR)\n",
    "        blurred = cv2.GaussianBlur(lights_bgr, (5,5), 0)\n",
    "        \n",
    "        thresh = cv2.threshold(blurred, 50, 255, cv2.THRESH_BINARY)[1]\n",
    "        \n",
    "        \n",
    "        \n",
    "        cv2.imshow('Threshold', thresh)\n",
    "        \n",
    "    if (cv2.waitKey(25) & 0xFF == ord('q')) or not ret:\n",
    "        break\n",
    "        \n",
    "cap.release()\n",
    "cv2.destroyAllWindows()"
   ]
  },
  {
   "cell_type": "markdown",
   "metadata": {},
   "source": [
    "## Define Detect Shapes Function"
   ]
  },
  {
   "cell_type": "code",
   "execution_count": 6,
   "metadata": {},
   "outputs": [],
   "source": [
    "def detect(c):\n",
    "        # initialize the shape name and approximate the contour\n",
    "        shape = \"unidentified\"\n",
    "        peri = cv2.arcLength(c, True)\n",
    "        approx = cv2.approxPolyDP(c, 0.04 * peri, True)\n",
    "        # if the shape is a triangle, it will have 3 vertices\n",
    "        if len(approx) == 3:\n",
    "            shape = \"triangle\"\n",
    " \n",
    "        # if the shape has 4 vertices, it is either a square or\n",
    "        # a rectangle\n",
    "        elif len(approx) == 4:\n",
    "            # compute the bounding box of the contour and use the\n",
    "            # bounding box to compute the aspect ratio\n",
    "            (x, y, w, h) = cv2.boundingRect(approx)\n",
    "            ar = w / float(h)\n",
    " \n",
    "            # a square will have an aspect ratio that is approximately\n",
    "            # equal to one, otherwise, the shape is a rectangle\n",
    "            if ar >= 0.95 and ar <= 1.05:\n",
    "                shape = \"square\"\n",
    "            elif ar <= 0.50:\n",
    "                shape = \"lightbar\"\n",
    "            else:\n",
    "                shape = \"rectangle\"\n",
    "                 \n",
    "        # if the shape is a pentagon, it will have 5 vertices\n",
    "        elif len(approx) == 5:\n",
    "            shape = \"pentagon\"\n",
    " \n",
    "        # otherwise, we assume the shape is a circle\n",
    "        else:\n",
    "            shape = \"circle\"\n",
    " \n",
    "        # return the name of the shape\n",
    "        return (shape, approx)"
   ]
  },
  {
   "cell_type": "markdown",
   "metadata": {},
   "source": [
    "## Draw Shapes on Threshold"
   ]
  },
  {
   "cell_type": "code",
   "execution_count": 242,
   "metadata": {},
   "outputs": [],
   "source": [
    "cap = cv2.VideoCapture('RedCar.avi')\n",
    "\n",
    "if not cap.isOpened():\n",
    "    print('Error opening video stream or file')\n",
    "\n",
    "while cap.isOpened():\n",
    "    ret, frame = cap.read()\n",
    "    \n",
    "    if ret:\n",
    "        hsv = cv2.cvtColor(frame, cv2.COLOR_BGR2HSV)\n",
    "        \n",
    "        lower = np.array([0,0,251])\n",
    "        upper = np.array([180,3,255])\n",
    "        mask = cv2.inRange(hsv, lower, upper)\n",
    "        \n",
    "        lights = cv2.bitwise_and(hsv, hsv, mask=mask)\n",
    "        \n",
    "        lights_bgr = cv2.cvtColor(lights, cv2.COLOR_HSV2BGR)\n",
    "        blurred = cv2.GaussianBlur(lights_bgr, (5,5), 0)\n",
    "        \n",
    "        thresh = cv2.threshold(blurred, 30, 255, cv2.THRESH_BINARY)[1]\n",
    "        \n",
    "        gray = cv2.cvtColor(thresh, cv2.COLOR_BGR2GRAY)\n",
    "        \n",
    "        \n",
    "        cnts = cv2.findContours(gray, cv2.RETR_EXTERNAL, cv2.CHAIN_APPROX_SIMPLE)\n",
    "        \n",
    "        \n",
    "        cnts = cnts[0] if imutils.is_cv2() else cnts[1]\n",
    "        \n",
    "        \n",
    "        for c in cnts:\n",
    "            try:\n",
    "                # compute the center of the contour, then detect the name of the\n",
    "                # shape using only the contour\n",
    "                M = cv2.moments(c)\n",
    "                cX = int((M[\"m10\"] / M[\"m00\"]))\n",
    "                cY = int((M[\"m01\"] / M[\"m00\"]))\n",
    "                \n",
    "                shape, approx = detect(c)\n",
    "\n",
    "\n",
    "                if shape == 'lightbar':\n",
    "                    cv2.drawContours(thresh, [c], -1, (0, 255, 0), 2)\n",
    "                    cv2.putText(thresh, 'lightbar', (cX, cY), cv2.FONT_HERSHEY_SIMPLEX, 0.5, (255, 255, 255), 2)\n",
    "\n",
    "                    #draw bisecting lines\n",
    "                    (x, y, w, h) = cv2.boundingRect(approx)\n",
    "                    cv2.line(thresh, (int((x+(w/2))), y), (int((x+(w/2))), y+h), (255,0,0), 2)\n",
    "\n",
    "\n",
    "            except:\n",
    "                pass\n",
    "        \n",
    "        \n",
    "        \n",
    "        cv2.imshow('Threshold', thresh)\n",
    "        \n",
    "    if (cv2.waitKey(25) & 0xFF == ord('q')) or not ret:\n",
    "        break\n",
    "        \n",
    "cap.release()\n",
    "cv2.destroyAllWindows()"
   ]
  },
  {
   "cell_type": "markdown",
   "metadata": {},
   "source": [
    "## Draw Shapes on Original Frame"
   ]
  },
  {
   "cell_type": "code",
   "execution_count": 7,
   "metadata": {},
   "outputs": [],
   "source": [
    "cap = cv2.VideoCapture('RedCar.avi')\n",
    "\n",
    "if not cap.isOpened():\n",
    "    print('Error opening video stream or file')\n",
    "\n",
    "while cap.isOpened():\n",
    "    ret, frame = cap.read()\n",
    "    \n",
    "    if ret:\n",
    "        hsv = cv2.cvtColor(frame, cv2.COLOR_BGR2HSV)\n",
    "        \n",
    "        lower = np.array([0,0,251])\n",
    "        upper = np.array([180,3,255])\n",
    "        mask = cv2.inRange(hsv, lower, upper)\n",
    "        \n",
    "        lights = cv2.bitwise_and(hsv, hsv, mask=mask)\n",
    "        \n",
    "        lights_bgr = cv2.cvtColor(lights, cv2.COLOR_HSV2BGR)\n",
    "        blurred = cv2.GaussianBlur(lights_bgr, (5,5), 0)\n",
    "        \n",
    "        thresh = cv2.threshold(blurred, 30, 255, cv2.THRESH_BINARY)[1]\n",
    "        \n",
    "        gray = cv2.cvtColor(thresh, cv2.COLOR_BGR2GRAY)\n",
    "        \n",
    "        \n",
    "        cnts = cv2.findContours(gray, cv2.RETR_EXTERNAL, cv2.CHAIN_APPROX_SIMPLE)\n",
    "        \n",
    "        \n",
    "        cnts = cnts[0] if imutils.is_cv2() else cnts[1]\n",
    "        \n",
    "        prev_coords = None\n",
    "        \n",
    "        \n",
    "        for c in cnts:\n",
    "            try:\n",
    "                # compute the center of the contour, then detect the name of the\n",
    "                # shape using only the contour\n",
    "                M = cv2.moments(c)\n",
    "                cX = int((M[\"m10\"] / M[\"m00\"]))\n",
    "                cY = int((M[\"m01\"] / M[\"m00\"]))\n",
    "                \n",
    "                shape, approx = detect(c)\n",
    "\n",
    "\n",
    "                if shape == 'lightbar':\n",
    "                    cv2.drawContours(frame, [c], -1, (0, 255, 0), 2)\n",
    "                    cv2.putText(frame, 'lightbar', (cX, cY), cv2.FONT_HERSHEY_SIMPLEX, 0.5, (255, 255, 255), 2)\n",
    "\n",
    "                    #draw bisecting lines\n",
    "                    (x, y, w, h) = cv2.boundingRect(approx)\n",
    "                    cv2.line(frame, (int((x+(w/2))), y), (int((x+(w/2))), y+h), (255,0,0), 2)\n",
    "\n",
    "\n",
    "            except:\n",
    "                pass\n",
    "        \n",
    "        \n",
    "        \n",
    "        cv2.imshow('Output', frame)\n",
    "        \n",
    "    if (cv2.waitKey(25) & 0xFF == ord('q')) or not ret:\n",
    "        break\n",
    "        \n",
    "cap.release()\n",
    "cv2.destroyAllWindows()"
   ]
  },
  {
   "cell_type": "code",
   "execution_count": null,
   "metadata": {},
   "outputs": [],
   "source": []
  }
 ],
 "metadata": {
  "kernelspec": {
   "display_name": "Python 3",
   "language": "python",
   "name": "python3"
  },
  "language_info": {
   "codemirror_mode": {
    "name": "ipython",
    "version": 3
   },
   "file_extension": ".py",
   "mimetype": "text/x-python",
   "name": "python",
   "nbconvert_exporter": "python",
   "pygments_lexer": "ipython3",
   "version": "3.6.3"
  }
 },
 "nbformat": 4,
 "nbformat_minor": 2
}
