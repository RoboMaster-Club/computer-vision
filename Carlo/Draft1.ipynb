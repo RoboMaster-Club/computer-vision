{
 "cells": [
  {
   "cell_type": "code",
   "execution_count": 2,
   "metadata": {},
   "outputs": [
    {
     "data": {
      "text/plain": [
       "'3.4.0'"
      ]
     },
     "execution_count": 2,
     "metadata": {},
     "output_type": "execute_result"
    }
   ],
   "source": [
    "import cv2\n",
    "import numpy as np\n",
    "import imutils\n",
    "cv2.__version__"
   ]
  },
  {
   "cell_type": "code",
   "execution_count": 9,
   "metadata": {},
   "outputs": [],
   "source": [
    "cap = cv2.VideoCapture('RedCar.avi')\n",
    "\n",
    "\n",
    "if not cap.isOpened():\n",
    "    print('Error opening video stream or file')\n",
    "\n",
    "while cap.isOpened():\n",
    "\n",
    "    ret, frame = cap.read()\n",
    "    \n",
    "    if ret:\n",
    "        \n",
    "        ratio = 1\n",
    "        hsv = cv2.cvtColor(frame, cv2.COLOR_BGR2HSV)\n",
    "        \n",
    "        lower = np.array([0,0,170])\n",
    "        upper = np.array([190,15,255])\n",
    "        mask = cv2.inRange(hsv, lower, upper)\n",
    "        \n",
    "        reds = cv2.bitwise_and(hsv, hsv, mask=mask)\n",
    "        reds_bgr = cv2.cvtColor(reds, cv2.COLOR_HSV2BGR)\n",
    "        \n",
    "        gray = cv2.cvtColor(reds_bgr, cv2.COLOR_BGR2GRAY)\n",
    "        blurred = cv2.GaussianBlur(gray, (5, 5), 0)\n",
    "        thresh = cv2.threshold(blurred, 210, 255, cv2.THRESH_BINARY)[1]\n",
    "        \n",
    "             \n",
    "        \n",
    "        cnts = cv2.findContours(thresh, cv2.RETR_EXTERNAL, cv2.CHAIN_APPROX_SIMPLE)\n",
    "        \n",
    "        cnts = cnts[0] if imutils.is_cv2() else cnts[1]\n",
    "        \n",
    "        try:\n",
    "            for c in cnts:\n",
    "                # compute the center of the contour, then detect the name of the\n",
    "                # shape using only the contour\n",
    "                M = cv2.moments(c)\n",
    "                cX = int((M[\"m10\"] / M[\"m00\"]) * ratio)\n",
    "                cY = int((M[\"m01\"] / M[\"m00\"]) * ratio)\n",
    "                shape = detect(c)\n",
    "\n",
    "                # multiply the contour (x, y)-coordinates by the resize ratio,\n",
    "                # then draw the contours and the name of the shape on the image\n",
    "                c = c.astype(\"float\")\n",
    "                c *= ratio\n",
    "                c = c.astype(\"int\")\n",
    "                \n",
    "                if shape == 'rectangle':\n",
    "                    cv2.drawContours(frame, [c], -1, (0, 255, 0), 2)\n",
    "                    cv2.putText(frame, 'lightbar', (cX, cY), cv2.FONT_HERSHEY_SIMPLEX, 0.5, (255, 255, 255), 2)\n",
    "        except:\n",
    "            pass\n",
    "        \n",
    "        \n",
    "        cv2.imshow('Frame', thresh)\n",
    "        cv2.imshow('orig', frame)\n",
    "        \n",
    "    if (cv2.waitKey(25) & 0xFF == ord('q')) or not ret:\n",
    "        break\n",
    "        \n",
    "cap.release()\n",
    "cv2.destroyAllWindows()"
   ]
  },
  {
   "cell_type": "code",
   "execution_count": 3,
   "metadata": {},
   "outputs": [],
   "source": [
    "def detect(c):\n",
    "        # initialize the shape name and approximate the contour\n",
    "        shape = \"unidentified\"\n",
    "        peri = cv2.arcLength(c, True)\n",
    "        approx = cv2.approxPolyDP(c, 0.04 * peri, True)\n",
    "        # if the shape is a triangle, it will have 3 vertices\n",
    "        if len(approx) == 3:\n",
    "            shape = \"triangle\"\n",
    " \n",
    "        # if the shape has 4 vertices, it is either a square or\n",
    "        # a rectangle\n",
    "        elif len(approx) == 4:\n",
    "            # compute the bounding box of the contour and use the\n",
    "            # bounding box to compute the aspect ratio\n",
    "            (x, y, w, h) = cv2.boundingRect(approx)\n",
    "            ar = w / float(h)\n",
    " \n",
    "            # a square will have an aspect ratio that is approximately\n",
    "            # equal to one, otherwise, the shape is a rectangle\n",
    "            shape = \"square\" if ar >= 0.95 and ar <= 1.05 else \"rectangle\"\n",
    " \n",
    "        # if the shape is a pentagon, it will have 5 vertices\n",
    "        elif len(approx) == 5:\n",
    "            shape = \"pentagon\"\n",
    " \n",
    "        # otherwise, we assume the shape is a circle\n",
    "        else:\n",
    "            shape = \"circle\"\n",
    " \n",
    "        # return the name of the shape\n",
    "        return shape"
   ]
  },
  {
   "cell_type": "code",
   "execution_count": null,
   "metadata": {},
   "outputs": [],
   "source": []
  }
 ],
 "metadata": {
  "kernelspec": {
   "display_name": "Python 3",
   "language": "python",
   "name": "python3"
  },
  "language_info": {
   "codemirror_mode": {
    "name": "ipython",
    "version": 3
   },
   "file_extension": ".py",
   "mimetype": "text/x-python",
   "name": "python",
   "nbconvert_exporter": "python",
   "pygments_lexer": "ipython3",
   "version": "3.6.3"
  }
 },
 "nbformat": 4,
 "nbformat_minor": 2
}
